{
 "cells": [
  {
   "cell_type": "code",
   "execution_count": 134,
   "metadata": {},
   "outputs": [
    {
     "name": "stdout",
     "output_type": "stream",
     "text": [
      "y                  10\n",
      "x                   0\n",
      "mean                0\n",
      "std                 0\n",
      "p-value             0\n",
      "FDR adj p-value     0\n",
      "dtype: int64\n",
      "y                  0\n",
      "x                  0\n",
      "mean               0\n",
      "std                0\n",
      "p-value            0\n",
      "FDR adj p-value    0\n",
      "dtype: int64\n"
     ]
    },
    {
     "data": {
      "text/html": [
       "<div>\n",
       "<style scoped>\n",
       "    .dataframe tbody tr th:only-of-type {\n",
       "        vertical-align: middle;\n",
       "    }\n",
       "\n",
       "    .dataframe tbody tr th {\n",
       "        vertical-align: top;\n",
       "    }\n",
       "\n",
       "    .dataframe thead th {\n",
       "        text-align: right;\n",
       "    }\n",
       "</style>\n",
       "<table border=\"1\" class=\"dataframe\">\n",
       "  <thead>\n",
       "    <tr style=\"text-align: right;\">\n",
       "      <th></th>\n",
       "      <th>y</th>\n",
       "      <th>x</th>\n",
       "      <th>mean</th>\n",
       "      <th>std</th>\n",
       "      <th>p-value</th>\n",
       "      <th>FDR adj p-value</th>\n",
       "    </tr>\n",
       "  </thead>\n",
       "  <tbody>\n",
       "    <tr>\n",
       "      <th>0</th>\n",
       "      <td>Female</td>\n",
       "      <td>Female</td>\n",
       "      <td>0.766095</td>\n",
       "      <td>0.131713</td>\n",
       "      <td>0.000653</td>\n",
       "      <td>0.407163</td>\n",
       "    </tr>\n",
       "    <tr>\n",
       "      <th>1</th>\n",
       "      <td>Age 4-8</td>\n",
       "      <td>Age 4-8</td>\n",
       "      <td>0.583054</td>\n",
       "      <td>0.082055</td>\n",
       "      <td>0.000193</td>\n",
       "      <td>0.267524</td>\n",
       "    </tr>\n",
       "    <tr>\n",
       "      <th>2</th>\n",
       "      <td>Age 4-8</td>\n",
       "      <td>ESSENTIAL PRIMARY HYPERTENSION</td>\n",
       "      <td>-0.013356</td>\n",
       "      <td>0.003205</td>\n",
       "      <td>0.004206</td>\n",
       "      <td>0.814461</td>\n",
       "    </tr>\n",
       "    <tr>\n",
       "      <th>3</th>\n",
       "      <td>Age 4-8</td>\n",
       "      <td>ENCOUNTER GEN ADULT MED EXAM W/O ABNORMAL FIND</td>\n",
       "      <td>-0.005451</td>\n",
       "      <td>0.001398</td>\n",
       "      <td>0.005915</td>\n",
       "      <td>0.896831</td>\n",
       "    </tr>\n",
       "    <tr>\n",
       "      <th>4</th>\n",
       "      <td>Age 4-8</td>\n",
       "      <td>ENCOUNTER FOR IMMUNIZATION</td>\n",
       "      <td>0.018370</td>\n",
       "      <td>0.004188</td>\n",
       "      <td>0.003211</td>\n",
       "      <td>0.750630</td>\n",
       "    </tr>\n",
       "    <tr>\n",
       "      <th>...</th>\n",
       "      <td>...</td>\n",
       "      <td>...</td>\n",
       "      <td>...</td>\n",
       "      <td>...</td>\n",
       "      <td>...</td>\n",
       "      <td>...</td>\n",
       "    </tr>\n",
       "    <tr>\n",
       "      <th>1038</th>\n",
       "      <td>ENCOUNTER OTHER SCREENING MALIG NEOPLASM BREAST</td>\n",
       "      <td>DYSPHAGIA UNSPECIFIED</td>\n",
       "      <td>-0.007082</td>\n",
       "      <td>0.001695</td>\n",
       "      <td>0.004145</td>\n",
       "      <td>0.814461</td>\n",
       "    </tr>\n",
       "    <tr>\n",
       "      <th>1039</th>\n",
       "      <td>ENCOUNTER OTHER SCREENING MALIG NEOPLASM BREAST</td>\n",
       "      <td>ENCOUNTER FOR SCREENING FOR HUMAN PAPILLOMAVIRUS</td>\n",
       "      <td>-0.011730</td>\n",
       "      <td>0.002496</td>\n",
       "      <td>0.002210</td>\n",
       "      <td>0.636634</td>\n",
       "    </tr>\n",
       "    <tr>\n",
       "      <th>1040</th>\n",
       "      <td>ENCOUNTER OTHER SCREENING MALIG NEOPLASM BREAST</td>\n",
       "      <td>IRREGULAR MENSTRUATION UNSPECIFIED</td>\n",
       "      <td>-0.006156</td>\n",
       "      <td>0.001687</td>\n",
       "      <td>0.008193</td>\n",
       "      <td>0.896831</td>\n",
       "    </tr>\n",
       "    <tr>\n",
       "      <th>1041</th>\n",
       "      <td>2019-nCoV acute respiratory disease, confirmed</td>\n",
       "      <td>OTHER SPECIFIED POSTPROCEDURAL STATES</td>\n",
       "      <td>-0.009466</td>\n",
       "      <td>0.002202</td>\n",
       "      <td>0.003576</td>\n",
       "      <td>0.768052</td>\n",
       "    </tr>\n",
       "    <tr>\n",
       "      <th>1042</th>\n",
       "      <td>2019-nCoV acute respiratory disease, confirmed</td>\n",
       "      <td>FLU D/T UNIDENTIFIED FLU VIRUS W/OTH RESP MANIF</td>\n",
       "      <td>0.038569</td>\n",
       "      <td>0.009259</td>\n",
       "      <td>0.004214</td>\n",
       "      <td>0.814461</td>\n",
       "    </tr>\n",
       "  </tbody>\n",
       "</table>\n",
       "<p>1043 rows × 6 columns</p>\n",
       "</div>"
      ],
      "text/plain": [
       "                                                    y  \\\n",
       "0                                              Female   \n",
       "1                                             Age 4-8   \n",
       "2                                             Age 4-8   \n",
       "3                                             Age 4-8   \n",
       "4                                             Age 4-8   \n",
       "...                                               ...   \n",
       "1038  ENCOUNTER OTHER SCREENING MALIG NEOPLASM BREAST   \n",
       "1039  ENCOUNTER OTHER SCREENING MALIG NEOPLASM BREAST   \n",
       "1040  ENCOUNTER OTHER SCREENING MALIG NEOPLASM BREAST   \n",
       "1041   2019-nCoV acute respiratory disease, confirmed   \n",
       "1042   2019-nCoV acute respiratory disease, confirmed   \n",
       "\n",
       "                                                     x      mean       std  \\\n",
       "0                                               Female  0.766095  0.131713   \n",
       "1                                              Age 4-8  0.583054  0.082055   \n",
       "2                       ESSENTIAL PRIMARY HYPERTENSION -0.013356  0.003205   \n",
       "3       ENCOUNTER GEN ADULT MED EXAM W/O ABNORMAL FIND -0.005451  0.001398   \n",
       "4                           ENCOUNTER FOR IMMUNIZATION  0.018370  0.004188   \n",
       "...                                                ...       ...       ...   \n",
       "1038                             DYSPHAGIA UNSPECIFIED -0.007082  0.001695   \n",
       "1039  ENCOUNTER FOR SCREENING FOR HUMAN PAPILLOMAVIRUS -0.011730  0.002496   \n",
       "1040                IRREGULAR MENSTRUATION UNSPECIFIED -0.006156  0.001687   \n",
       "1041             OTHER SPECIFIED POSTPROCEDURAL STATES -0.009466  0.002202   \n",
       "1042   FLU D/T UNIDENTIFIED FLU VIRUS W/OTH RESP MANIF  0.038569  0.009259   \n",
       "\n",
       "       p-value  FDR adj p-value  \n",
       "0     0.000653         0.407163  \n",
       "1     0.000193         0.267524  \n",
       "2     0.004206         0.814461  \n",
       "3     0.005915         0.896831  \n",
       "4     0.003211         0.750630  \n",
       "...        ...              ...  \n",
       "1038  0.004145         0.814461  \n",
       "1039  0.002210         0.636634  \n",
       "1040  0.008193         0.896831  \n",
       "1041  0.003576         0.768052  \n",
       "1042  0.004214         0.814461  \n",
       "\n",
       "[1043 rows x 6 columns]"
      ]
     },
     "execution_count": 134,
     "metadata": {},
     "output_type": "execute_result"
    }
   ],
   "source": [
    "import pandas as pd\n",
    "\n",
    "coef_df = pd.read_csv('coef.csv')\n",
    "print(coef_df.isna().sum())\n",
    "coef_df = coef_df.fillna('NA')\n",
    "print(coef_df.isna().sum())\n",
    "coef_df"
   ]
  },
  {
   "cell_type": "code",
   "execution_count": 135,
   "metadata": {},
   "outputs": [
    {
     "name": "stdout",
     "output_type": "stream",
     "text": [
      "name               1\n",
      "mean               0\n",
      "std                0\n",
      "p-value            0\n",
      "FDR adj p-value    0\n",
      "label              0\n",
      "dtype: int64\n",
      "name               0\n",
      "mean               0\n",
      "std                0\n",
      "p-value            0\n",
      "FDR adj p-value    0\n",
      "label              0\n",
      "dtype: int64\n"
     ]
    },
    {
     "data": {
      "text/html": [
       "<div>\n",
       "<style scoped>\n",
       "    .dataframe tbody tr th:only-of-type {\n",
       "        vertical-align: middle;\n",
       "    }\n",
       "\n",
       "    .dataframe tbody tr th {\n",
       "        vertical-align: top;\n",
       "    }\n",
       "\n",
       "    .dataframe thead th {\n",
       "        text-align: right;\n",
       "    }\n",
       "</style>\n",
       "<table border=\"1\" class=\"dataframe\">\n",
       "  <thead>\n",
       "    <tr style=\"text-align: right;\">\n",
       "      <th></th>\n",
       "      <th>name</th>\n",
       "      <th>mean</th>\n",
       "      <th>std</th>\n",
       "      <th>p-value</th>\n",
       "      <th>FDR adj p-value</th>\n",
       "      <th>label</th>\n",
       "    </tr>\n",
       "  </thead>\n",
       "  <tbody>\n",
       "    <tr>\n",
       "      <th>0</th>\n",
       "      <td>Female</td>\n",
       "      <td>0.127066</td>\n",
       "      <td>0.066523</td>\n",
       "      <td>0.097741</td>\n",
       "      <td>0.476228</td>\n",
       "      <td>constant</td>\n",
       "    </tr>\n",
       "    <tr>\n",
       "      <th>1</th>\n",
       "      <td>Age 4-8</td>\n",
       "      <td>0.157321</td>\n",
       "      <td>0.068984</td>\n",
       "      <td>0.056592</td>\n",
       "      <td>0.370271</td>\n",
       "      <td>constant</td>\n",
       "    </tr>\n",
       "    <tr>\n",
       "      <th>2</th>\n",
       "      <td>Age 9-13</td>\n",
       "      <td>0.083995</td>\n",
       "      <td>0.068153</td>\n",
       "      <td>0.257566</td>\n",
       "      <td>0.685730</td>\n",
       "      <td>constant</td>\n",
       "    </tr>\n",
       "    <tr>\n",
       "      <th>3</th>\n",
       "      <td>Age 14-18</td>\n",
       "      <td>0.078643</td>\n",
       "      <td>0.065452</td>\n",
       "      <td>0.268612</td>\n",
       "      <td>0.685730</td>\n",
       "      <td>constant</td>\n",
       "    </tr>\n",
       "    <tr>\n",
       "      <th>4</th>\n",
       "      <td>Age 19-23</td>\n",
       "      <td>0.098648</td>\n",
       "      <td>0.077102</td>\n",
       "      <td>0.241515</td>\n",
       "      <td>0.677795</td>\n",
       "      <td>constant</td>\n",
       "    </tr>\n",
       "    <tr>\n",
       "      <th>...</th>\n",
       "      <td>...</td>\n",
       "      <td>...</td>\n",
       "      <td>...</td>\n",
       "      <td>...</td>\n",
       "      <td>...</td>\n",
       "      <td>...</td>\n",
       "    </tr>\n",
       "    <tr>\n",
       "      <th>224</th>\n",
       "      <td>Encounter for screening for depression</td>\n",
       "      <td>-0.001035</td>\n",
       "      <td>0.000995</td>\n",
       "      <td>0.332661</td>\n",
       "      <td>0.751424</td>\n",
       "      <td>constant</td>\n",
       "    </tr>\n",
       "    <tr>\n",
       "      <th>225</th>\n",
       "      <td>CHRONIC RHINITIS</td>\n",
       "      <td>0.000296</td>\n",
       "      <td>0.001921</td>\n",
       "      <td>0.882096</td>\n",
       "      <td>0.953029</td>\n",
       "      <td>constant</td>\n",
       "    </tr>\n",
       "    <tr>\n",
       "      <th>226</th>\n",
       "      <td>BODY MASS INDEX BMI 23.0-23.9 ADULT</td>\n",
       "      <td>-0.000104</td>\n",
       "      <td>0.001605</td>\n",
       "      <td>0.950047</td>\n",
       "      <td>0.980003</td>\n",
       "      <td>constant</td>\n",
       "    </tr>\n",
       "    <tr>\n",
       "      <th>227</th>\n",
       "      <td>ENCOUNTER OTHER SCREENING MALIG NEOPLASM BREAST</td>\n",
       "      <td>-0.001655</td>\n",
       "      <td>0.001025</td>\n",
       "      <td>0.150626</td>\n",
       "      <td>0.575935</td>\n",
       "      <td>constant</td>\n",
       "    </tr>\n",
       "    <tr>\n",
       "      <th>228</th>\n",
       "      <td>2019-nCoV acute respiratory disease, confirmed</td>\n",
       "      <td>0.000184</td>\n",
       "      <td>0.000959</td>\n",
       "      <td>0.853345</td>\n",
       "      <td>0.953029</td>\n",
       "      <td>constant</td>\n",
       "    </tr>\n",
       "  </tbody>\n",
       "</table>\n",
       "<p>229 rows × 6 columns</p>\n",
       "</div>"
      ],
      "text/plain": [
       "                                                name      mean       std  \\\n",
       "0                                             Female  0.127066  0.066523   \n",
       "1                                            Age 4-8  0.157321  0.068984   \n",
       "2                                           Age 9-13  0.083995  0.068153   \n",
       "3                                          Age 14-18  0.078643  0.065452   \n",
       "4                                          Age 19-23  0.098648  0.077102   \n",
       "..                                               ...       ...       ...   \n",
       "224           Encounter for screening for depression -0.001035  0.000995   \n",
       "225                                 CHRONIC RHINITIS  0.000296  0.001921   \n",
       "226              BODY MASS INDEX BMI 23.0-23.9 ADULT -0.000104  0.001605   \n",
       "227  ENCOUNTER OTHER SCREENING MALIG NEOPLASM BREAST -0.001655  0.001025   \n",
       "228   2019-nCoV acute respiratory disease, confirmed  0.000184  0.000959   \n",
       "\n",
       "      p-value  FDR adj p-value     label  \n",
       "0    0.097741         0.476228  constant  \n",
       "1    0.056592         0.370271  constant  \n",
       "2    0.257566         0.685730  constant  \n",
       "3    0.268612         0.685730  constant  \n",
       "4    0.241515         0.677795  constant  \n",
       "..        ...              ...       ...  \n",
       "224  0.332661         0.751424  constant  \n",
       "225  0.882096         0.953029  constant  \n",
       "226  0.950047         0.980003  constant  \n",
       "227  0.150626         0.575935  constant  \n",
       "228  0.853345         0.953029  constant  \n",
       "\n",
       "[229 rows x 6 columns]"
      ]
     },
     "execution_count": 135,
     "metadata": {},
     "output_type": "execute_result"
    }
   ],
   "source": [
    "constant_df = pd.read_csv('constant.csv')\n",
    "constant_df['label'] ='constant'\n",
    "print(constant_df.isna().sum())\n",
    "constant_df = constant_df.fillna('NA')\n",
    "print(constant_df.isna().sum())\n",
    "\n",
    "constant_df"
   ]
  },
  {
   "cell_type": "code",
   "execution_count": 136,
   "metadata": {},
   "outputs": [
    {
     "name": "stdout",
     "output_type": "stream",
     "text": [
      "········\n"
     ]
    }
   ],
   "source": [
    "#server = 'http://67.205.191.70'\n",
    "server = 'https://yaniv.i.tgcloud.io'\n",
    "\n",
    "import getpass\n",
    "\n",
    "password = getpass.getpass()"
   ]
  },
  {
   "cell_type": "code",
   "execution_count": 137,
   "metadata": {},
   "outputs": [
    {
     "name": "stdout",
     "output_type": "stream",
     "text": [
      "Requirement already satisfied: pyTigerGraph in /Users/ybenami/EasyAsPie.ai/pyTigerGraph (0.0.6.9)\n",
      "Requirement already satisfied: validators in /Library/Frameworks/Python.framework/Versions/3.8/lib/python3.8/site-packages (from pyTigerGraph) (0.15.0)\n",
      "Requirement already satisfied: requests in /Users/ybenami/Library/Python/3.8/lib/python/site-packages (from pyTigerGraph) (2.24.0)\n",
      "Requirement already satisfied: pandas in /Library/Frameworks/Python.framework/Versions/3.8/lib/python3.8/site-packages (from pyTigerGraph) (1.0.5)\n",
      "Requirement already satisfied: six>=1.4.0 in /Users/ybenami/Library/Python/3.8/lib/python/site-packages (from validators->pyTigerGraph) (1.15.0)\n",
      "Requirement already satisfied: decorator>=3.4.0 in /Library/Frameworks/Python.framework/Versions/3.8/lib/python3.8/site-packages (from validators->pyTigerGraph) (4.4.2)\n",
      "Requirement already satisfied: idna<3,>=2.5 in /Users/ybenami/Library/Python/3.8/lib/python/site-packages (from requests->pyTigerGraph) (2.10)\n",
      "Requirement already satisfied: chardet<4,>=3.0.2 in /Users/ybenami/Library/Python/3.8/lib/python/site-packages (from requests->pyTigerGraph) (3.0.4)\n",
      "Requirement already satisfied: certifi>=2017.4.17 in /Users/ybenami/Library/Python/3.8/lib/python/site-packages (from requests->pyTigerGraph) (2020.6.20)\n",
      "Requirement already satisfied: urllib3!=1.25.0,!=1.25.1,<1.26,>=1.21.1 in /Library/Frameworks/Python.framework/Versions/3.8/lib/python3.8/site-packages (from requests->pyTigerGraph) (1.24.3)\n",
      "Requirement already satisfied: numpy>=1.13.3 in /Library/Frameworks/Python.framework/Versions/3.8/lib/python3.8/site-packages (from pandas->pyTigerGraph) (1.19.0)\n",
      "Requirement already satisfied: python-dateutil>=2.6.1 in /Library/Frameworks/Python.framework/Versions/3.8/lib/python3.8/site-packages (from pandas->pyTigerGraph) (2.8.1)\n",
      "Requirement already satisfied: pytz>=2017.2 in /Library/Frameworks/Python.framework/Versions/3.8/lib/python3.8/site-packages (from pandas->pyTigerGraph) (2020.1)\n"
     ]
    }
   ],
   "source": [
    "\n",
    "!pip install pyTigerGraph"
   ]
  },
  {
   "cell_type": "code",
   "execution_count": 138,
   "metadata": {},
   "outputs": [
    {
     "name": "stdout",
     "output_type": "stream",
     "text": [
      "Downloading gsql client Jar\n",
      "Downloading SSL Certificate\n"
     ]
    }
   ],
   "source": [
    "import pyTigerGraph as tg \n",
    "\n",
    "# Replace graphname='social' with the graph you would like to be used as default\n",
    "conn = tg.TigerGraphConnection(\n",
    "    host=server, \n",
    "    graphname='ML', \n",
    "    password=password)\n",
    "\n",
    "# Change client_version once TigerGraph Cloud is upgraded  \n",
    "#shell = tg.Gsql(conn, certNeeded=False)\n",
    "shell = tg.Gsql(conn, certNeeded=True)"
   ]
  },
  {
   "cell_type": "code",
   "execution_count": 139,
   "metadata": {},
   "outputs": [
    {
     "name": "stdout",
     "output_type": "stream",
     "text": [
      "========================\n",
      "Trying version: v3_0_0\n",
      "Connecting to yaniv.i.tgcloud.io:14240\n",
      "WARNING: sun.reflect.Reflection.getCallerClass is not supported. This will impact performance.\n",
      "GSQL client is not compatible with GSQL server. Please contact support@tigergraph.com\n",
      "Supported Versions ( v3_0_0 v2_6_0 v2_5_2 v2_5_0 v2_4_1 v2_4_0 v2_3_2 )\n",
      "You may use 'GSQL_CLIENT_VERSION=v? java ...' or \n",
      "    'java -DGSQL_CLIENT_VERSION=v? ...' to specify the version\n",
      "========================\n",
      "Trying version: v2_6_0\n",
      "Connecting to yaniv.i.tgcloud.io:14240\n",
      "If there is any relative path, it is relative to tigergraph/dev/gdk/gsql\n",
      "---- Global vertices, edges, and all graphs\n",
      "Vertex Types: \n",
      "  - VERTEX Patient(PRIMARY_ID patient_id STRING, name STRING, gender STRING, birth DATETIME, death DATETIME) WITH STATS=\"OUTDEGREE_BY_EDGETYPE\", PRIMARY_ID_AS_ATTRIBUTE=\"true\"\n",
      "  - VERTEX Provider(PRIMARY_ID provider_id STRING, name STRING, specialty STRING) WITH STATS=\"OUTDEGREE_BY_EDGETYPE\", PRIMARY_ID_AS_ATTRIBUTE=\"true\"\n",
      "  - VERTEX Encounter(PRIMARY_ID encounter_id STRING, description STRING, startTime DATETIME, endTime DATETIME) WITH STATS=\"OUTDEGREE_BY_EDGETYPE\", PRIMARY_ID_AS_ATTRIBUTE=\"true\"\n",
      "  - VERTEX Condition(PRIMARY_ID condition_id STRING, description STRING, startDate DATETIME, endDate DATETIME) WITH STATS=\"OUTDEGREE_BY_EDGETYPE\", PRIMARY_ID_AS_ATTRIBUTE=\"true\"\n",
      "  - VERTEX Procedures(PRIMARY_ID procedure_id STRING, description STRING, startTime DATETIME, endTime DATETIME) WITH STATS=\"OUTDEGREE_BY_EDGETYPE\", PRIMARY_ID_AS_ATTRIBUTE=\"true\"\n",
      "  - VERTEX Medication(PRIMARY_ID medication_id STRING, description STRING, authorDate DATETIME) WITH STATS=\"OUTDEGREE_BY_EDGETYPE\", PRIMARY_ID_AS_ATTRIBUTE=\"true\"\n",
      "  - VERTEX ML_condition(PRIMARY_ID condition_id STRING) WITH STATS=\"OUTDEGREE_BY_EDGETYPE\", PRIMARY_ID_AS_ATTRIBUTE=\"true\"\n",
      "  - VERTEX ML_label(PRIMARY_ID label_id STRING) WITH STATS=\"OUTDEGREE_BY_EDGETYPE\", PRIMARY_ID_AS_ATTRIBUTE=\"true\"\n",
      "  - VERTEX person(PRIMARY_ID name STRING, name STRING, age INT, gender STRING, state STRING) WITH STATS=\"OUTDEGREE_BY_EDGETYPE\"\n",
      "Edge Types: \n",
      "  - UNDIRECTED EDGE PATIENT_HAS_CONDITION(FROM Condition, TO Patient)\n",
      "  - UNDIRECTED EDGE ENCOUNTER_FOR_CONDITION(FROM Condition, TO Encounter)\n",
      "  - UNDIRECTED EDGE ENCOUNTER_FOR_PATIENT(FROM Encounter, TO Patient)\n",
      "  - UNDIRECTED EDGE ENCOUNTER_HAS_PROVIDER(FROM Encounter, TO Provider)\n",
      "  - UNDIRECTED EDGE PATIENT_HAS_PROCEDURE(FROM Procedures, TO Patient)\n",
      "  - UNDIRECTED EDGE ENCOUNTER_FOR_PROCEDURE(FROM Procedures, TO Encounter)\n",
      "  - UNDIRECTED EDGE PATIENT_HAS_MEDICATION(FROM Medication, TO Patient)\n",
      "  - UNDIRECTED EDGE ENCOUNTER_FOR_MEDICATION(FROM Medication, TO Encounter)\n",
      "  - UNDIRECTED EDGE ML_reg_constant(FROM ML_condition, TO ML_label, name STRING, mean DOUBLE, std DOUBLE, p_value DOUBLE, adj_p_value DOUBLE)\n",
      "  - DIRECTED EDGE ML_reg_coef(FROM ML_condition, TO ML_condition, x STRING, y STRING, mean DOUBLE, std DOUBLE, p_value DOUBLE, adj_p_value DOUBLE)\n",
      "  - UNDIRECTED EDGE friendship(FROM person, TO person, connect_day DATETIME)\n",
      "\n",
      "Graphs: \n",
      "  - Graph synthea(Patient:v, Provider:v, Encounter:v, Condition:v, Procedures:v, Medication:v, Subset:v, PATIENT_HAS_CONDITION:e, ENCOUNTER_FOR_CONDITION:e, ENCOUNTER_FOR_PATIENT:e, ENCOUNTER_HAS_PROVIDER:e, PATIENT_HAS_PROCEDURE:e, ENCOUNTER_FOR_PROCEDURE:e, PATIENT_HAS_MEDICATION:e, ENCOUNTER_FOR_MEDICATION:e, PATIENT_IN_SUBSET:e)\n",
      "  - Graph social(person:v, friendship:e)\n",
      "  - Graph ML(ML_condition:v, ML_label:v, ML_reg_constant:e, ML_reg_coef:e)\n",
      "Jobs: \n",
      "\n",
      "\n",
      "JSON API version: v2\n",
      "Syntax version: v1\n",
      "\n",
      "\n"
     ]
    }
   ],
   "source": [
    "print(shell.gsql('ls', options=[]))"
   ]
  },
  {
   "cell_type": "code",
   "execution_count": 140,
   "metadata": {},
   "outputs": [
    {
     "data": {
      "text/plain": [
       "32"
      ]
     },
     "execution_count": 140,
     "metadata": {},
     "output_type": "execute_result"
    }
   ],
   "source": [
    "secret = shell.createSecret()\n",
    "len(secret)"
   ]
  },
  {
   "cell_type": "code",
   "execution_count": 141,
   "metadata": {},
   "outputs": [
    {
     "data": {
      "text/plain": [
       "32"
      ]
     },
     "execution_count": 141,
     "metadata": {},
     "output_type": "execute_result"
    }
   ],
   "source": [
    "token = conn.getToken(secret=secret)\n",
    "len(token[0])"
   ]
  },
  {
   "cell_type": "code",
   "execution_count": 146,
   "metadata": {},
   "outputs": [
    {
     "name": "stdout",
     "output_type": "stream",
     "text": [
      "========================\n",
      "Trying version: v3_0_0\n",
      "Connecting to yaniv.i.tgcloud.io:14240\n",
      "WARNING: sun.reflect.Reflection.getCallerClass is not supported. This will impact performance.\n",
      "GSQL client is not compatible with GSQL server. Please contact support@tigergraph.com\n",
      "Supported Versions ( v3_0_0 v2_6_0 v2_5_2 v2_5_0 v2_4_1 v2_4_0 v2_3_2 )\n",
      "You may use 'GSQL_CLIENT_VERSION=v? java ...' or \n",
      "    'java -DGSQL_CLIENT_VERSION=v? ...' to specify the version\n",
      "========================\n",
      "Trying version: v2_6_0\n",
      "Connecting to yaniv.i.tgcloud.io:14240\n",
      "If there is any relative path, it is relative to tigergraph/dev/gdk/gsql\n",
      "Semantic Check Fails: Query all_edges depends on graph ML!\n",
      "Please drop the query first!\n",
      "The graph ML could not be found or dropped!\n",
      "Semantic Check Fails: The edge type ML_reg_constant is used on Graph ML; please drop the graph first!\n",
      "The edge type ML_reg_constant could not be found.\n",
      "Semantic Check Fails: The edge type ML_reg_coef is used on Graph ML; please drop the graph first!\n",
      "The edge type ML_reg_coef could not be found.\n",
      "Semantic Check Fails: The vertex type is used on the edge ML_reg_constant; please drop the edge first!\n",
      "The vertex type ML_condition could not be found.\n",
      "Semantic Check Fails: The vertex type is used on the edge ML_reg_constant; please drop the edge first!\n",
      "The vertex type ML_label could not be found.\n",
      "\n"
     ]
    }
   ],
   "source": [
    "print(shell.gsql('''\n",
    "    drop graph ML\n",
    "    drop edge ML_reg_constant\n",
    "    drop edge ML_reg_coef\n",
    "    drop vertex ML_condition\n",
    "    drop vertex ML_label\n",
    "''', options=[]))"
   ]
  },
  {
   "cell_type": "code",
   "execution_count": 147,
   "metadata": {},
   "outputs": [
    {
     "name": "stdout",
     "output_type": "stream",
     "text": [
      "========================\n",
      "Trying version: v3_0_0\n",
      "Connecting to yaniv.i.tgcloud.io:14240\n",
      "WARNING: sun.reflect.Reflection.getCallerClass is not supported. This will impact performance.\n",
      "GSQL client is not compatible with GSQL server. Please contact support@tigergraph.com\n",
      "Supported Versions ( v3_0_0 v2_6_0 v2_5_2 v2_5_0 v2_4_1 v2_4_0 v2_3_2 )\n",
      "You may use 'GSQL_CLIENT_VERSION=v? java ...' or \n",
      "    'java -DGSQL_CLIENT_VERSION=v? ...' to specify the version\n",
      "========================\n",
      "Trying version: v2_6_0\n",
      "Connecting to yaniv.i.tgcloud.io:14240\n",
      "If there is any relative path, it is relative to tigergraph/dev/gdk/gsql\n",
      "Semantic Check Fails: The vertex name ML_condition is used by another object! Please use a different name.\n",
      "failed to create the vertex type ML_condition\n",
      "\n"
     ]
    }
   ],
   "source": [
    "print(shell.gsql('''\n",
    "    create vertex ML_condition(primary_id condition_id string) WITH PRIMARY_ID_AS_ATTRIBUTE=\"true\"\n",
    "    create vertex ML_label(primary_id label_id string) WITH PRIMARY_ID_AS_ATTRIBUTE=\"true\"\n",
    "    create undirected edge ML_reg_constant(from ML_condition, to ML_label, name string, mean double, std double, p_value double, adj_p_value double)   \n",
    "    create directed edge ML_reg_coef(from ML_condition, to ML_condition, x string, y string, mean double, std double, p_value double, adj_p_value double) \n",
    "    \n",
    "    create graph ML (ML_condition, ML_label, ML_reg_constant, ML_reg_coef)\n",
    "''', options=[]))"
   ]
  },
  {
   "cell_type": "code",
   "execution_count": 114,
   "metadata": {},
   "outputs": [
    {
     "data": {
      "text/plain": [
       "1"
      ]
     },
     "execution_count": 114,
     "metadata": {},
     "output_type": "execute_result"
    }
   ],
   "source": [
    "conn.upsertVertex(vertexType='ML_label', vertexId='constant', attributes={'label_id': 'constant'})"
   ]
  },
  {
   "cell_type": "code",
   "execution_count": 115,
   "metadata": {},
   "outputs": [
    {
     "data": {
      "text/plain": [
       "134"
      ]
     },
     "execution_count": 115,
     "metadata": {},
     "output_type": "execute_result"
    }
   ],
   "source": [
    "conn.upsertVertexDataframe(df=constant_df, vertexType='ML_condition', v_id='name', attributes={'condition_id':'name'})"
   ]
  },
  {
   "cell_type": "code",
   "execution_count": 116,
   "metadata": {},
   "outputs": [
    {
     "data": {
      "text/plain": [
       "134"
      ]
     },
     "execution_count": 116,
     "metadata": {},
     "output_type": "execute_result"
    }
   ],
   "source": [
    "conn.upsertEdgesDataframe(\n",
    "    df=constant_df, \n",
    "    sourceVertexType='ML_condition', \n",
    "    edgeType='ML_reg_constant', \n",
    "    targetVertexType='ML_label', \n",
    "    from_id='name', \n",
    "    to_id='label', \n",
    "    attributes={\n",
    "        'name':'name', 'mean':'mean', 'std':'std', \n",
    "        'p_value':'p-value', 'adj_p_value': 'FDR adj p-value'},\n",
    ")\n"
   ]
  },
  {
   "cell_type": "code",
   "execution_count": 148,
   "metadata": {},
   "outputs": [
    {
     "data": {
      "text/plain": [
       "259"
      ]
     },
     "execution_count": 148,
     "metadata": {},
     "output_type": "execute_result"
    }
   ],
   "source": [
    "conn.upsertEdgesDataframe(\n",
    "    df=coef_df.loc[coef_df['mean'].abs()>0.03], \n",
    "    sourceVertexType='ML_condition', \n",
    "    edgeType='ML_reg_coef', \n",
    "    targetVertexType='ML_condition', \n",
    "    from_id='x', \n",
    "    to_id='y', \n",
    "    attributes={\n",
    "        'x':'x', 'y':'y', 'mean':'mean', 'std':'std', \n",
    "        'p_value':'p-value', 'adj_p_value': 'FDR adj p-value'},\n",
    ")"
   ]
  },
  {
   "cell_type": "code",
   "execution_count": null,
   "metadata": {},
   "outputs": [],
   "source": []
  }
 ],
 "metadata": {
  "kernelspec": {
   "display_name": "Python 3",
   "language": "python",
   "name": "python3"
  },
  "language_info": {
   "codemirror_mode": {
    "name": "ipython",
    "version": 3
   },
   "file_extension": ".py",
   "mimetype": "text/x-python",
   "name": "python",
   "nbconvert_exporter": "python",
   "pygments_lexer": "ipython3",
   "version": "3.7.7"
  },
  "toc": {
   "base_numbering": 1,
   "nav_menu": {},
   "number_sections": true,
   "sideBar": true,
   "skip_h1_title": false,
   "title_cell": "Table of Contents",
   "title_sidebar": "Contents",
   "toc_cell": false,
   "toc_position": {},
   "toc_section_display": true,
   "toc_window_display": false
  }
 },
 "nbformat": 4,
 "nbformat_minor": 4
}
