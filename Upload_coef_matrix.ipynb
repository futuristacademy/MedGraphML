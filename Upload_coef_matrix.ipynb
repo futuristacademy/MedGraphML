{
 "cells": [
  {
   "cell_type": "code",
   "execution_count": 97,
   "metadata": {},
   "outputs": [
    {
     "name": "stdout",
     "output_type": "stream",
     "text": [
      "y                  0\n",
      "x                  0\n",
      "mean               0\n",
      "std                0\n",
      "p-value            0\n",
      "FDR adj p-value    0\n",
      "dtype: int64\n",
      "y                  0\n",
      "x                  0\n",
      "mean               0\n",
      "std                0\n",
      "p-value            0\n",
      "FDR adj p-value    0\n",
      "dtype: int64\n"
     ]
    },
    {
     "data": {
      "text/html": [
       "<div>\n",
       "<style scoped>\n",
       "    .dataframe tbody tr th:only-of-type {\n",
       "        vertical-align: middle;\n",
       "    }\n",
       "\n",
       "    .dataframe tbody tr th {\n",
       "        vertical-align: top;\n",
       "    }\n",
       "\n",
       "    .dataframe thead th {\n",
       "        text-align: right;\n",
       "    }\n",
       "</style>\n",
       "<table border=\"1\" class=\"dataframe\">\n",
       "  <thead>\n",
       "    <tr style=\"text-align: right;\">\n",
       "      <th></th>\n",
       "      <th>y</th>\n",
       "      <th>x</th>\n",
       "      <th>mean</th>\n",
       "      <th>std</th>\n",
       "      <th>p-value</th>\n",
       "      <th>FDR adj p-value</th>\n",
       "    </tr>\n",
       "  </thead>\n",
       "  <tbody>\n",
       "    <tr>\n",
       "      <th>0</th>\n",
       "      <td>Female</td>\n",
       "      <td>Female</td>\n",
       "      <td>0.993232</td>\n",
       "      <td>0.000163</td>\n",
       "      <td>0.000000</td>\n",
       "      <td>0.000000</td>\n",
       "    </tr>\n",
       "    <tr>\n",
       "      <th>1</th>\n",
       "      <td>Deceased</td>\n",
       "      <td>Age 0-4</td>\n",
       "      <td>-0.028898</td>\n",
       "      <td>0.002594</td>\n",
       "      <td>0.000010</td>\n",
       "      <td>0.001717</td>\n",
       "    </tr>\n",
       "    <tr>\n",
       "      <th>2</th>\n",
       "      <td>Deceased</td>\n",
       "      <td>Age 10-14</td>\n",
       "      <td>-0.028633</td>\n",
       "      <td>0.004566</td>\n",
       "      <td>0.000416</td>\n",
       "      <td>0.042578</td>\n",
       "    </tr>\n",
       "    <tr>\n",
       "      <th>3</th>\n",
       "      <td>Deceased</td>\n",
       "      <td>Age 20-24</td>\n",
       "      <td>-0.022250</td>\n",
       "      <td>0.002961</td>\n",
       "      <td>0.000136</td>\n",
       "      <td>0.016237</td>\n",
       "    </tr>\n",
       "    <tr>\n",
       "      <th>4</th>\n",
       "      <td>Deceased</td>\n",
       "      <td>Age 65-69</td>\n",
       "      <td>0.035180</td>\n",
       "      <td>0.004351</td>\n",
       "      <td>0.000085</td>\n",
       "      <td>0.010849</td>\n",
       "    </tr>\n",
       "    <tr>\n",
       "      <th>...</th>\n",
       "      <td>...</td>\n",
       "      <td>...</td>\n",
       "      <td>...</td>\n",
       "      <td>...</td>\n",
       "      <td>...</td>\n",
       "      <td>...</td>\n",
       "    </tr>\n",
       "    <tr>\n",
       "      <th>149</th>\n",
       "      <td>Alzheimer's disease (disorder)</td>\n",
       "      <td>Age 80-84</td>\n",
       "      <td>0.015801</td>\n",
       "      <td>0.002467</td>\n",
       "      <td>0.000365</td>\n",
       "      <td>0.038954</td>\n",
       "    </tr>\n",
       "    <tr>\n",
       "      <th>150</th>\n",
       "      <td>Hypertriglyceridemia (disorder)</td>\n",
       "      <td>Diabetes</td>\n",
       "      <td>0.303065</td>\n",
       "      <td>0.020496</td>\n",
       "      <td>0.000002</td>\n",
       "      <td>0.000337</td>\n",
       "    </tr>\n",
       "    <tr>\n",
       "      <th>151</th>\n",
       "      <td>Metabolic syndrome X (disorder)</td>\n",
       "      <td>Diabetes</td>\n",
       "      <td>0.212059</td>\n",
       "      <td>0.019241</td>\n",
       "      <td>0.000011</td>\n",
       "      <td>0.001816</td>\n",
       "    </tr>\n",
       "    <tr>\n",
       "      <th>152</th>\n",
       "      <td>Recurrent rectal polyp</td>\n",
       "      <td>Polyp of colon</td>\n",
       "      <td>0.078191</td>\n",
       "      <td>0.010453</td>\n",
       "      <td>0.000140</td>\n",
       "      <td>0.016582</td>\n",
       "    </tr>\n",
       "    <tr>\n",
       "      <th>153</th>\n",
       "      <td>Chronic pain</td>\n",
       "      <td>Chronic intractable migraine without aura</td>\n",
       "      <td>0.130934</td>\n",
       "      <td>0.011690</td>\n",
       "      <td>0.000010</td>\n",
       "      <td>0.001696</td>\n",
       "    </tr>\n",
       "  </tbody>\n",
       "</table>\n",
       "<p>154 rows × 6 columns</p>\n",
       "</div>"
      ],
      "text/plain": [
       "                                   y  \\\n",
       "0                             Female   \n",
       "1                           Deceased   \n",
       "2                           Deceased   \n",
       "3                           Deceased   \n",
       "4                           Deceased   \n",
       "..                               ...   \n",
       "149   Alzheimer's disease (disorder)   \n",
       "150  Hypertriglyceridemia (disorder)   \n",
       "151  Metabolic syndrome X (disorder)   \n",
       "152           Recurrent rectal polyp   \n",
       "153                     Chronic pain   \n",
       "\n",
       "                                             x      mean       std   p-value  \\\n",
       "0                                       Female  0.993232  0.000163  0.000000   \n",
       "1                                      Age 0-4 -0.028898  0.002594  0.000010   \n",
       "2                                    Age 10-14 -0.028633  0.004566  0.000416   \n",
       "3                                    Age 20-24 -0.022250  0.002961  0.000136   \n",
       "4                                    Age 65-69  0.035180  0.004351  0.000085   \n",
       "..                                         ...       ...       ...       ...   \n",
       "149                                  Age 80-84  0.015801  0.002467  0.000365   \n",
       "150                                   Diabetes  0.303065  0.020496  0.000002   \n",
       "151                                   Diabetes  0.212059  0.019241  0.000011   \n",
       "152                             Polyp of colon  0.078191  0.010453  0.000140   \n",
       "153  Chronic intractable migraine without aura  0.130934  0.011690  0.000010   \n",
       "\n",
       "     FDR adj p-value  \n",
       "0           0.000000  \n",
       "1           0.001717  \n",
       "2           0.042578  \n",
       "3           0.016237  \n",
       "4           0.010849  \n",
       "..               ...  \n",
       "149         0.038954  \n",
       "150         0.000337  \n",
       "151         0.001816  \n",
       "152         0.016582  \n",
       "153         0.001696  \n",
       "\n",
       "[154 rows x 6 columns]"
      ]
     },
     "execution_count": 97,
     "metadata": {},
     "output_type": "execute_result"
    }
   ],
   "source": [
    "import pandas as pd\n",
    "\n",
    "coef_df = pd.read_csv('coef.csv')\n",
    "print(coef_df.isna().sum())\n",
    "coef_df = coef_df.fillna('NA')\n",
    "print(coef_df.isna().sum())\n",
    "coef_df"
   ]
  },
  {
   "cell_type": "code",
   "execution_count": 98,
   "metadata": {},
   "outputs": [
    {
     "name": "stdout",
     "output_type": "stream",
     "text": [
      "name               0\n",
      "mean               0\n",
      "std                0\n",
      "p-value            0\n",
      "FDR adj p-value    0\n",
      "label              0\n",
      "dtype: int64\n",
      "name               0\n",
      "mean               0\n",
      "std                0\n",
      "p-value            0\n",
      "FDR adj p-value    0\n",
      "label              0\n",
      "dtype: int64\n"
     ]
    },
    {
     "data": {
      "text/html": [
       "<div>\n",
       "<style scoped>\n",
       "    .dataframe tbody tr th:only-of-type {\n",
       "        vertical-align: middle;\n",
       "    }\n",
       "\n",
       "    .dataframe tbody tr th {\n",
       "        vertical-align: top;\n",
       "    }\n",
       "\n",
       "    .dataframe thead th {\n",
       "        text-align: right;\n",
       "    }\n",
       "</style>\n",
       "<table border=\"1\" class=\"dataframe\">\n",
       "  <thead>\n",
       "    <tr style=\"text-align: right;\">\n",
       "      <th></th>\n",
       "      <th>name</th>\n",
       "      <th>mean</th>\n",
       "      <th>std</th>\n",
       "      <th>p-value</th>\n",
       "      <th>FDR adj p-value</th>\n",
       "      <th>label</th>\n",
       "    </tr>\n",
       "  </thead>\n",
       "  <tbody>\n",
       "    <tr>\n",
       "      <th>0</th>\n",
       "      <td>Female</td>\n",
       "      <td>0.003271</td>\n",
       "      <td>0.000172</td>\n",
       "      <td>2.721592e-07</td>\n",
       "      <td>0.058590</td>\n",
       "      <td>constant</td>\n",
       "    </tr>\n",
       "    <tr>\n",
       "      <th>1</th>\n",
       "      <td>Deceased</td>\n",
       "      <td>0.040106</td>\n",
       "      <td>0.003621</td>\n",
       "      <td>1.087478e-05</td>\n",
       "      <td>0.000018</td>\n",
       "      <td>constant</td>\n",
       "    </tr>\n",
       "    <tr>\n",
       "      <th>2</th>\n",
       "      <td>Age 0-4</td>\n",
       "      <td>0.000644</td>\n",
       "      <td>0.001340</td>\n",
       "      <td>6.455327e-01</td>\n",
       "      <td>0.166165</td>\n",
       "      <td>constant</td>\n",
       "    </tr>\n",
       "    <tr>\n",
       "      <th>3</th>\n",
       "      <td>Age 5-9</td>\n",
       "      <td>0.000542</td>\n",
       "      <td>0.000888</td>\n",
       "      <td>5.611949e-01</td>\n",
       "      <td>0.001048</td>\n",
       "      <td>constant</td>\n",
       "    </tr>\n",
       "    <tr>\n",
       "      <th>4</th>\n",
       "      <td>Age 10-14</td>\n",
       "      <td>0.001015</td>\n",
       "      <td>0.001737</td>\n",
       "      <td>5.774694e-01</td>\n",
       "      <td>0.008502</td>\n",
       "      <td>constant</td>\n",
       "    </tr>\n",
       "    <tr>\n",
       "      <th>...</th>\n",
       "      <td>...</td>\n",
       "      <td>...</td>\n",
       "      <td>...</td>\n",
       "      <td>...</td>\n",
       "      <td>...</td>\n",
       "      <td>...</td>\n",
       "    </tr>\n",
       "    <tr>\n",
       "      <th>129</th>\n",
       "      <td>Localized, primary osteoarthritis of the hand</td>\n",
       "      <td>-0.000835</td>\n",
       "      <td>0.003062</td>\n",
       "      <td>7.928603e-01</td>\n",
       "      <td>0.999171</td>\n",
       "      <td>constant</td>\n",
       "    </tr>\n",
       "    <tr>\n",
       "      <th>130</th>\n",
       "      <td>Osteoarthritis of hip</td>\n",
       "      <td>0.000176</td>\n",
       "      <td>0.000603</td>\n",
       "      <td>7.785546e-01</td>\n",
       "      <td>0.999171</td>\n",
       "      <td>constant</td>\n",
       "    </tr>\n",
       "    <tr>\n",
       "      <th>131</th>\n",
       "      <td>Contact dermatitis</td>\n",
       "      <td>0.000372</td>\n",
       "      <td>0.000798</td>\n",
       "      <td>6.550815e-01</td>\n",
       "      <td>0.926072</td>\n",
       "      <td>constant</td>\n",
       "    </tr>\n",
       "    <tr>\n",
       "      <th>132</th>\n",
       "      <td>Concussion injury of brain</td>\n",
       "      <td>0.002081</td>\n",
       "      <td>0.005078</td>\n",
       "      <td>6.942439e-01</td>\n",
       "      <td>0.935836</td>\n",
       "      <td>constant</td>\n",
       "    </tr>\n",
       "    <tr>\n",
       "      <th>133</th>\n",
       "      <td>Neoplasm of prostate</td>\n",
       "      <td>0.000391</td>\n",
       "      <td>0.001487</td>\n",
       "      <td>8.002529e-01</td>\n",
       "      <td>0.999171</td>\n",
       "      <td>constant</td>\n",
       "    </tr>\n",
       "  </tbody>\n",
       "</table>\n",
       "<p>134 rows × 6 columns</p>\n",
       "</div>"
      ],
      "text/plain": [
       "                                              name      mean       std  \\\n",
       "0                                           Female  0.003271  0.000172   \n",
       "1                                         Deceased  0.040106  0.003621   \n",
       "2                                          Age 0-4  0.000644  0.001340   \n",
       "3                                          Age 5-9  0.000542  0.000888   \n",
       "4                                        Age 10-14  0.001015  0.001737   \n",
       "..                                             ...       ...       ...   \n",
       "129  Localized, primary osteoarthritis of the hand -0.000835  0.003062   \n",
       "130                          Osteoarthritis of hip  0.000176  0.000603   \n",
       "131                             Contact dermatitis  0.000372  0.000798   \n",
       "132                     Concussion injury of brain  0.002081  0.005078   \n",
       "133                           Neoplasm of prostate  0.000391  0.001487   \n",
       "\n",
       "          p-value  FDR adj p-value     label  \n",
       "0    2.721592e-07         0.058590  constant  \n",
       "1    1.087478e-05         0.000018  constant  \n",
       "2    6.455327e-01         0.166165  constant  \n",
       "3    5.611949e-01         0.001048  constant  \n",
       "4    5.774694e-01         0.008502  constant  \n",
       "..            ...              ...       ...  \n",
       "129  7.928603e-01         0.999171  constant  \n",
       "130  7.785546e-01         0.999171  constant  \n",
       "131  6.550815e-01         0.926072  constant  \n",
       "132  6.942439e-01         0.935836  constant  \n",
       "133  8.002529e-01         0.999171  constant  \n",
       "\n",
       "[134 rows x 6 columns]"
      ]
     },
     "execution_count": 98,
     "metadata": {},
     "output_type": "execute_result"
    }
   ],
   "source": [
    "constant_df = pd.read_csv('constant.csv')\n",
    "constant_df['label'] ='constant'\n",
    "print(constant_df.isna().sum())\n",
    "constant_df = constant_df.fillna('NA')\n",
    "print(constant_df.isna().sum())\n",
    "\n",
    "constant_df"
   ]
  },
  {
   "cell_type": "code",
   "execution_count": 47,
   "metadata": {},
   "outputs": [
    {
     "name": "stdout",
     "output_type": "stream",
     "text": [
      "········\n"
     ]
    }
   ],
   "source": [
    "#server = 'http://67.205.191.70'\n",
    "server = 'https://yaniv.i.tgcloud.io'\n",
    "\n",
    "import getpass\n",
    "\n",
    "password = getpass.getpass()"
   ]
  },
  {
   "cell_type": "code",
   "execution_count": 9,
   "metadata": {},
   "outputs": [
    {
     "name": "stdout",
     "output_type": "stream",
     "text": [
      "Requirement already satisfied: pyTigerGraph in /Users/ybenami/EasyAsPie.ai/pyTigerGraph (0.0.6.7)\n",
      "Requirement already satisfied: validators in /Library/Frameworks/Python.framework/Versions/3.8/lib/python3.8/site-packages (from pyTigerGraph) (0.15.0)\n",
      "Requirement already satisfied: requests in /Users/ybenami/Library/Python/3.8/lib/python/site-packages (from pyTigerGraph) (2.24.0)\n",
      "Requirement already satisfied: pandas in /Library/Frameworks/Python.framework/Versions/3.8/lib/python3.8/site-packages (from pyTigerGraph) (1.0.5)\n",
      "Requirement already satisfied: six>=1.4.0 in /Users/ybenami/Library/Python/3.8/lib/python/site-packages (from validators->pyTigerGraph) (1.15.0)\n",
      "Requirement already satisfied: decorator>=3.4.0 in /Library/Frameworks/Python.framework/Versions/3.8/lib/python3.8/site-packages (from validators->pyTigerGraph) (4.4.2)\n",
      "Requirement already satisfied: idna<3,>=2.5 in /Users/ybenami/Library/Python/3.8/lib/python/site-packages (from requests->pyTigerGraph) (2.10)\n",
      "Requirement already satisfied: chardet<4,>=3.0.2 in /Users/ybenami/Library/Python/3.8/lib/python/site-packages (from requests->pyTigerGraph) (3.0.4)\n",
      "Requirement already satisfied: certifi>=2017.4.17 in /Users/ybenami/Library/Python/3.8/lib/python/site-packages (from requests->pyTigerGraph) (2020.6.20)\n",
      "Requirement already satisfied: urllib3!=1.25.0,!=1.25.1,<1.26,>=1.21.1 in /Library/Frameworks/Python.framework/Versions/3.8/lib/python3.8/site-packages (from requests->pyTigerGraph) (1.24.3)\n",
      "Requirement already satisfied: pytz>=2017.2 in /Library/Frameworks/Python.framework/Versions/3.8/lib/python3.8/site-packages (from pandas->pyTigerGraph) (2020.1)\n",
      "Requirement already satisfied: python-dateutil>=2.6.1 in /Library/Frameworks/Python.framework/Versions/3.8/lib/python3.8/site-packages (from pandas->pyTigerGraph) (2.8.1)\n",
      "Requirement already satisfied: numpy>=1.13.3 in /Library/Frameworks/Python.framework/Versions/3.8/lib/python3.8/site-packages (from pandas->pyTigerGraph) (1.19.0)\n"
     ]
    }
   ],
   "source": [
    "\n",
    "!pip install pyTigerGraph"
   ]
  },
  {
   "cell_type": "code",
   "execution_count": 48,
   "metadata": {},
   "outputs": [
    {
     "name": "stdout",
     "output_type": "stream",
     "text": [
      "Downloading gsql client Jar\n",
      "Downloading SSL Certificate\n"
     ]
    }
   ],
   "source": [
    "import pyTigerGraph as tg \n",
    "\n",
    "# Replace graphname='social' with the graph you would like to be used as default\n",
    "conn = tg.TigerGraphConnection(\n",
    "    host=server, \n",
    "    graphname='ML', \n",
    "    password=password)\n",
    "\n",
    "# Change client_version once TigerGraph Cloud is upgraded  \n",
    "#shell = tg.Gsql(conn, certNeeded=False)\n",
    "shell = tg.Gsql(conn, certNeeded=True)"
   ]
  },
  {
   "cell_type": "code",
   "execution_count": 111,
   "metadata": {},
   "outputs": [
    {
     "name": "stdout",
     "output_type": "stream",
     "text": [
      "========================\n",
      "Trying version: v3_0_0\n",
      "Connecting to yaniv.i.tgcloud.io:14240\n",
      "WARNING: sun.reflect.Reflection.getCallerClass is not supported. This will impact performance.\n",
      "GSQL client is not compatible with GSQL server. Please contact support@tigergraph.com\n",
      "Supported Versions ( v3_0_0 v2_6_0 v2_5_2 v2_5_0 v2_4_1 v2_4_0 v2_3_2 )\n",
      "You may use 'GSQL_CLIENT_VERSION=v? java ...' or \n",
      "    'java -DGSQL_CLIENT_VERSION=v? ...' to specify the version\n",
      "========================\n",
      "Trying version: v2_6_0\n",
      "Connecting to yaniv.i.tgcloud.io:14240\n",
      "If there is any relative path, it is relative to tigergraph/dev/gdk/gsql\n",
      "---- Global vertices, edges, and all graphs\n",
      "Vertex Types: \n",
      "  - VERTEX Patient(PRIMARY_ID patient_id STRING, name STRING, gender STRING, birth DATETIME, death DATETIME) WITH STATS=\"OUTDEGREE_BY_EDGETYPE\", PRIMARY_ID_AS_ATTRIBUTE=\"true\"\n",
      "  - VERTEX Provider(PRIMARY_ID provider_id STRING, name STRING, specialty STRING) WITH STATS=\"OUTDEGREE_BY_EDGETYPE\", PRIMARY_ID_AS_ATTRIBUTE=\"true\"\n",
      "  - VERTEX Encounter(PRIMARY_ID encounter_id STRING, description STRING, startTime DATETIME, endTime DATETIME) WITH STATS=\"OUTDEGREE_BY_EDGETYPE\", PRIMARY_ID_AS_ATTRIBUTE=\"true\"\n",
      "  - VERTEX Condition(PRIMARY_ID condition_id STRING, description STRING, startDate DATETIME, endDate DATETIME) WITH STATS=\"OUTDEGREE_BY_EDGETYPE\", PRIMARY_ID_AS_ATTRIBUTE=\"true\"\n",
      "  - VERTEX Procedures(PRIMARY_ID procedure_id STRING, description STRING, startTime DATETIME, endTime DATETIME) WITH STATS=\"OUTDEGREE_BY_EDGETYPE\", PRIMARY_ID_AS_ATTRIBUTE=\"true\"\n",
      "  - VERTEX Medication(PRIMARY_ID medication_id STRING, description STRING, authorDate DATETIME) WITH STATS=\"OUTDEGREE_BY_EDGETYPE\", PRIMARY_ID_AS_ATTRIBUTE=\"true\"\n",
      "  - VERTEX person(PRIMARY_ID name STRING, name STRING, age INT, gender STRING, state STRING) WITH STATS=\"OUTDEGREE_BY_EDGETYPE\"\n",
      "  - VERTEX ML_condition(PRIMARY_ID condition_id STRING) WITH STATS=\"OUTDEGREE_BY_EDGETYPE\", PRIMARY_ID_AS_ATTRIBUTE=\"true\"\n",
      "  - VERTEX ML_label(PRIMARY_ID label_id STRING) WITH STATS=\"OUTDEGREE_BY_EDGETYPE\", PRIMARY_ID_AS_ATTRIBUTE=\"true\"\n",
      "Edge Types: \n",
      "  - UNDIRECTED EDGE PATIENT_HAS_CONDITION(FROM Condition, TO Patient)\n",
      "  - UNDIRECTED EDGE ENCOUNTER_FOR_CONDITION(FROM Condition, TO Encounter)\n",
      "  - UNDIRECTED EDGE ENCOUNTER_FOR_PATIENT(FROM Encounter, TO Patient)\n",
      "  - UNDIRECTED EDGE ENCOUNTER_HAS_PROVIDER(FROM Encounter, TO Provider)\n",
      "  - UNDIRECTED EDGE PATIENT_HAS_PROCEDURE(FROM Procedures, TO Patient)\n",
      "  - UNDIRECTED EDGE ENCOUNTER_FOR_PROCEDURE(FROM Procedures, TO Encounter)\n",
      "  - UNDIRECTED EDGE PATIENT_HAS_MEDICATION(FROM Medication, TO Patient)\n",
      "  - UNDIRECTED EDGE ENCOUNTER_FOR_MEDICATION(FROM Medication, TO Encounter)\n",
      "  - UNDIRECTED EDGE friendship(FROM person, TO person, connect_day DATETIME)\n",
      "  - UNDIRECTED EDGE ML_reg_constant(FROM ML_condition, TO ML_label, name STRING, mean DOUBLE, std DOUBLE, p_value DOUBLE, adj_p_value DOUBLE)\n",
      "  - DIRECTED EDGE ML_reg_coef(FROM ML_condition, TO ML_condition, x STRING, y STRING, mean DOUBLE, std DOUBLE, p_value DOUBLE, adj_p_value DOUBLE)\n",
      "\n",
      "Graphs: \n",
      "  - Graph synthea(Patient:v, Provider:v, Encounter:v, Condition:v, Procedures:v, Medication:v, Subset:v, PATIENT_HAS_CONDITION:e, ENCOUNTER_FOR_CONDITION:e, ENCOUNTER_FOR_PATIENT:e, ENCOUNTER_HAS_PROVIDER:e, PATIENT_HAS_PROCEDURE:e, ENCOUNTER_FOR_PROCEDURE:e, PATIENT_HAS_MEDICATION:e, ENCOUNTER_FOR_MEDICATION:e, PATIENT_IN_SUBSET:e)\n",
      "  - Graph social(person:v, friendship:e)\n",
      "  - Graph ML(ML_condition:v, ML_label:v, ML_reg_constant:e, ML_reg_coef:e)\n",
      "Jobs: \n",
      "\n",
      "\n",
      "JSON API version: v2\n",
      "Syntax version: v1\n",
      "\n",
      "\n"
     ]
    }
   ],
   "source": [
    "print(shell.gsql('ls', options=[]))"
   ]
  },
  {
   "cell_type": "code",
   "execution_count": 55,
   "metadata": {},
   "outputs": [
    {
     "data": {
      "text/plain": [
       "32"
      ]
     },
     "execution_count": 55,
     "metadata": {},
     "output_type": "execute_result"
    }
   ],
   "source": [
    "secret = shell.createSecret()\n",
    "len(secret)"
   ]
  },
  {
   "cell_type": "code",
   "execution_count": 57,
   "metadata": {},
   "outputs": [
    {
     "data": {
      "text/plain": [
       "32"
      ]
     },
     "execution_count": 57,
     "metadata": {},
     "output_type": "execute_result"
    }
   ],
   "source": [
    "token = conn.getToken(secret=secret)\n",
    "len(token[0])"
   ]
  },
  {
   "cell_type": "code",
   "execution_count": 112,
   "metadata": {},
   "outputs": [
    {
     "name": "stdout",
     "output_type": "stream",
     "text": [
      "========================\n",
      "Trying version: v3_0_0\n",
      "Connecting to yaniv.i.tgcloud.io:14240\n",
      "WARNING: sun.reflect.Reflection.getCallerClass is not supported. This will impact performance.\n",
      "GSQL client is not compatible with GSQL server. Please contact support@tigergraph.com\n",
      "Supported Versions ( v3_0_0 v2_6_0 v2_5_2 v2_5_0 v2_4_1 v2_4_0 v2_3_2 )\n",
      "You may use 'GSQL_CLIENT_VERSION=v? java ...' or \n",
      "    'java -DGSQL_CLIENT_VERSION=v? ...' to specify the version\n",
      "========================\n",
      "Trying version: v2_6_0\n",
      "Connecting to yaniv.i.tgcloud.io:14240\n",
      "If there is any relative path, it is relative to tigergraph/dev/gdk/gsql\n",
      "The graph ML is dropped.\n",
      "The edge type ML_reg_constant is dropped.\n",
      "The edge type ML_reg_coef is dropped.\n",
      "The vertex type ML_condition is dropped.\n",
      "The vertex type ML_label is dropped.\n",
      "\n"
     ]
    }
   ],
   "source": [
    "print(shell.gsql('''\n",
    "    drop graph ML\n",
    "    drop edge ML_reg_constant\n",
    "    drop edge ML_reg_coef\n",
    "    drop vertex ML_condition\n",
    "    drop vertex ML_label\n",
    "''', options=[]))"
   ]
  },
  {
   "cell_type": "code",
   "execution_count": 113,
   "metadata": {},
   "outputs": [
    {
     "name": "stdout",
     "output_type": "stream",
     "text": [
      "========================\n",
      "Trying version: v3_0_0\n",
      "Connecting to yaniv.i.tgcloud.io:14240\n",
      "WARNING: sun.reflect.Reflection.getCallerClass is not supported. This will impact performance.\n",
      "GSQL client is not compatible with GSQL server. Please contact support@tigergraph.com\n",
      "Supported Versions ( v3_0_0 v2_6_0 v2_5_2 v2_5_0 v2_4_1 v2_4_0 v2_3_2 )\n",
      "You may use 'GSQL_CLIENT_VERSION=v? java ...' or \n",
      "    'java -DGSQL_CLIENT_VERSION=v? ...' to specify the version\n",
      "========================\n",
      "Trying version: v2_6_0\n",
      "Connecting to yaniv.i.tgcloud.io:14240\n",
      "If there is any relative path, it is relative to tigergraph/dev/gdk/gsql\n",
      "The vertex type ML_condition is created.\n",
      "The vertex type ML_label is created.\n",
      "The edge type ML_reg_constant is created.\n",
      "The edge type ML_reg_coef is created.\n",
      "The graph ML is created.\n",
      "\n"
     ]
    }
   ],
   "source": [
    "print(shell.gsql('''\n",
    "    create vertex ML_condition(primary_id condition_id string) WITH PRIMARY_ID_AS_ATTRIBUTE=\"true\"\n",
    "    create vertex ML_label(primary_id label_id string) WITH PRIMARY_ID_AS_ATTRIBUTE=\"true\"\n",
    "    create undirected edge ML_reg_constant(from ML_condition, to ML_label, name string, mean double, std double, p_value double, adj_p_value double)   \n",
    "    create directed edge ML_reg_coef(from ML_condition, to ML_condition, x string, y string, mean double, std double, p_value double, adj_p_value double) \n",
    "    \n",
    "    create graph ML (ML_condition, ML_label, ML_reg_constant, ML_reg_coef)\n",
    "''', options=[]))"
   ]
  },
  {
   "cell_type": "code",
   "execution_count": 114,
   "metadata": {},
   "outputs": [
    {
     "data": {
      "text/plain": [
       "1"
      ]
     },
     "execution_count": 114,
     "metadata": {},
     "output_type": "execute_result"
    }
   ],
   "source": [
    "conn.upsertVertex(vertexType='ML_label', vertexId='constant', attributes={'label_id': 'constant'})"
   ]
  },
  {
   "cell_type": "code",
   "execution_count": 115,
   "metadata": {},
   "outputs": [
    {
     "data": {
      "text/plain": [
       "134"
      ]
     },
     "execution_count": 115,
     "metadata": {},
     "output_type": "execute_result"
    }
   ],
   "source": [
    "conn.upsertVertexDataframe(df=constant_df, vertexType='ML_condition', v_id='name', attributes={'condition_id':'name'})"
   ]
  },
  {
   "cell_type": "code",
   "execution_count": 116,
   "metadata": {},
   "outputs": [
    {
     "data": {
      "text/plain": [
       "134"
      ]
     },
     "execution_count": 116,
     "metadata": {},
     "output_type": "execute_result"
    }
   ],
   "source": [
    "conn.upsertEdgesDataframe(\n",
    "    df=constant_df, \n",
    "    sourceVertexType='ML_condition', \n",
    "    edgeType='ML_reg_constant', \n",
    "    targetVertexType='ML_label', \n",
    "    from_id='name', \n",
    "    to_id='label', \n",
    "    attributes={\n",
    "        'name':'name', 'mean':'mean', 'std':'std', \n",
    "        'p_value':'p-value', 'adj_p_value': 'FDR adj p-value'},\n",
    ")\n"
   ]
  },
  {
   "cell_type": "code",
   "execution_count": 117,
   "metadata": {},
   "outputs": [
    {
     "data": {
      "text/plain": [
       "154"
      ]
     },
     "execution_count": 117,
     "metadata": {},
     "output_type": "execute_result"
    }
   ],
   "source": [
    "conn.upsertEdgesDataframe(\n",
    "    df=coef_df, \n",
    "    sourceVertexType='ML_condition', \n",
    "    edgeType='ML_reg_coef', \n",
    "    targetVertexType='ML_condition', \n",
    "    from_id='x', \n",
    "    to_id='y', \n",
    "    attributes={\n",
    "        'x':'x', 'y':'y', 'mean':'mean', 'std':'std', \n",
    "        'p_value':'p-value', 'adj_p_value': 'FDR adj p-value'},\n",
    ")"
   ]
  },
  {
   "cell_type": "code",
   "execution_count": null,
   "metadata": {},
   "outputs": [],
   "source": []
  }
 ],
 "metadata": {
  "kernelspec": {
   "display_name": "Python 3",
   "language": "python",
   "name": "python3"
  },
  "language_info": {
   "codemirror_mode": {
    "name": "ipython",
    "version": 3
   },
   "file_extension": ".py",
   "mimetype": "text/x-python",
   "name": "python",
   "nbconvert_exporter": "python",
   "pygments_lexer": "ipython3",
   "version": "3.7.7"
  },
  "toc": {
   "base_numbering": 1,
   "nav_menu": {},
   "number_sections": true,
   "sideBar": true,
   "skip_h1_title": false,
   "title_cell": "Table of Contents",
   "title_sidebar": "Contents",
   "toc_cell": false,
   "toc_position": {},
   "toc_section_display": true,
   "toc_window_display": false
  }
 },
 "nbformat": 4,
 "nbformat_minor": 4
}
